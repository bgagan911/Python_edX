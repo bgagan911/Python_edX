{
 "cells": [
  {
   "cell_type": "markdown",
   "metadata": {},
   "source": [
    "# Collatz Sequence"
   ]
  },
  {
   "cell_type": "code",
   "execution_count": 3,
   "metadata": {},
   "outputs": [
    {
     "data": {
      "text/plain": [
       "['888-555-4454', '445-555-6898']"
      ]
     },
     "execution_count": 3,
     "metadata": {},
     "output_type": "execute_result"
    }
   ],
   "source": [
    "# import RegEx Library\n",
    "import re\n",
    "\n",
    "searchString = 'My Phone number is 888-555-4454 and New: 445-555-6898 '\n",
    "\n",
    "# Create Regex Object\n",
    "phoneNumRegex = re.compile(r'\\d{3}-\\d{3}-\\d{4}')\n",
    "\n",
    "# var = phoneNumRegex.search('My phone number is 415-555-4242')\n",
    "# print('Phone number found : ' + var.group(1)) \n",
    "\n",
    "# phoneNumRegex.findall('My Phone number is 888-555-4454 and New: 445-555-6898 ')\n",
    "phoneNumRegex.findall(searchString)\n",
    "# dir(var)"
   ]
  },
  {
   "cell_type": "code",
   "execution_count": null,
   "metadata": {},
   "outputs": [],
   "source": []
  }
 ],
 "metadata": {
  "kernelspec": {
   "display_name": "Python 3",
   "language": "python",
   "name": "python3"
  },
  "language_info": {
   "codemirror_mode": {
    "name": "ipython",
    "version": 3
   },
   "file_extension": ".py",
   "mimetype": "text/x-python",
   "name": "python",
   "nbconvert_exporter": "python",
   "pygments_lexer": "ipython3",
   "version": "3.7.3"
  }
 },
 "nbformat": 4,
 "nbformat_minor": 2
}
