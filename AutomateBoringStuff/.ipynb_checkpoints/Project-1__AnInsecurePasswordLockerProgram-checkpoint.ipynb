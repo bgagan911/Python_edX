{
 "cells": [
  {
   "cell_type": "markdown",
   "metadata": {},
   "source": [
    "# Project #1 - An Insecure Password Locker Program"
   ]
  },
  {
   "cell_type": "code",
   "execution_count": null,
   "metadata": {
    "tags": [
     "parameters"
    ]
   },
   "outputs": [],
   "source": [
    "#! python3\n",
    "# PasswordLocker : An Insecure Password locker program\n",
    "\n",
    "PASSWORDS = {'email': 'F7minlBDDuvMJuxESSKHFhTxFtjVB6',\n",
    "             'blog': 'VmALvQyKAxiVH5G8v01if1MLZF3sdt',\n",
    "             'luggage': '12345'}\n",
    "\n",
    "import sys\n",
    "if len(sys.argv) < 2:\n",
    "    print('Usage: python PasswordLocker.py [account] - copy account password')\n",
    "    sys.exit()\n",
    "    account = sys.argv[1] # first command line arg is the account name"
   ]
  }
 ],
 "metadata": {
  "celltoolbar": "Tags",
  "kernelspec": {
   "display_name": "Python 3",
   "language": "python",
   "name": "python3"
  },
  "language_info": {
   "codemirror_mode": {
    "name": "ipython",
    "version": 3
   },
   "file_extension": ".py",
   "mimetype": "text/x-python",
   "name": "python",
   "nbconvert_exporter": "python",
   "pygments_lexer": "ipython3",
   "version": "3.7.3"
  }
 },
 "nbformat": 4,
 "nbformat_minor": 2
}
