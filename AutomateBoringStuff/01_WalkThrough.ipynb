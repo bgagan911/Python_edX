{
 "cells": [
  {
   "cell_type": "markdown",
   "metadata": {},
   "source": [
    "# Collatz Sequence"
   ]
  },
  {
   "cell_type": "code",
   "execution_count": null,
   "metadata": {},
   "outputs": [],
   "source": [
    "def collatz(number):\n",
    "    try:\n",
    "        if int(number)%2 == 0:\n",
    "            print(int(number)//2)\n",
    "            return int(number)//2\n",
    "        else:\n",
    "            result = 3 * int(number) + 1\n",
    "            print(result)\n",
    "            return result\n",
    "    except Exception as ex:\n",
    "        template = \"An exception of type {0} occurred. Arguments:\\n{1!r}\"\n",
    "        message = template.format(type(ex).__name__, ex.args)\n",
    "        print(message)\n",
    "\n",
    "# while \n",
    "n = input(\"Enter a number : \")\n",
    "while n != 1:\n",
    "    n = collatz(int(n))"
   ]
  },
  {
   "cell_type": "markdown",
   "metadata": {},
   "source": [
    "# List"
   ]
  },
  {
   "cell_type": "code",
   "execution_count": 20,
   "metadata": {},
   "outputs": [
    {
     "name": "stdout",
     "output_type": "stream",
     "text": [
      "Length of the list Number is : 0\n",
      "Enter a number at position 1 to be added to the list (Or Nothing to stop) : \n",
      "1\n",
      "Enter a number at position 2 to be added to the list (Or Nothing to stop) : \n",
      "55\n",
      "Enter a number at position 3 to be added to the list (Or Nothing to stop) : \n",
      "\n",
      "Length of the list Number is : 2\n",
      "1,55,"
     ]
    }
   ],
   "source": [
    "## Create a list\n",
    "number = []\n",
    "print(\"Length of the list Number is :\", len(number))\n",
    "while True:\n",
    "    print(\"Enter a number at position\", str(len(number)+1) , \"to be added to the list (Or Nothing to stop) : \")\n",
    "    item = input()\n",
    "    if item == '':\n",
    "        break\n",
    "    else:\n",
    "        number = number + [item]\n",
    "        \n",
    "print(\"Length of the list Number is :\", len(number))\n",
    "for i in number:\n",
    "    print(i, end=',')"
   ]
  }
 ],
 "metadata": {
  "kernelspec": {
   "display_name": "Python 3",
   "language": "python",
   "name": "python3"
  },
  "language_info": {
   "codemirror_mode": {
    "name": "ipython",
    "version": 3
   },
   "file_extension": ".py",
   "mimetype": "text/x-python",
   "name": "python",
   "nbconvert_exporter": "python",
   "pygments_lexer": "ipython3",
   "version": "3.7.3"
  }
 },
 "nbformat": 4,
 "nbformat_minor": 2
}
