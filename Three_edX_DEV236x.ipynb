{
 "cells": [
  {
   "cell_type": "markdown",
   "metadata": {},
   "source": [
    "## Module 3"
   ]
  },
  {
   "cell_type": "code",
   "execution_count": 18,
   "metadata": {},
   "outputs": [
    {
     "name": "stdout",
     "output_type": "stream",
     "text": [
      "Enter your fav. color [ROYGBIV] : R\n",
      "Red\n"
     ]
    }
   ],
   "source": [
    "# Python Practice\n",
    "# if else with Dictionaries\n",
    "\n",
    "def rainbow_color(dict, key):\n",
    "    if key in dict:\n",
    "        print(dict[key])\n",
    "    else:\n",
    "        print(\"no match\")\n",
    "\n",
    "rainbowColors = {'R':\"Red\", 'O':\"Orange\", 'Y':\"Yellow\", 'G':\"Green\", 'B':\"Blue\", 'I':\"Indigo\", 'V':\"Voilet\"}\n",
    "\n",
    "color = input(\"Enter your fav. color [ROYGBIV] : \")\n",
    "rainbow_color(rainbowColors,color)"
   ]
  },
  {
   "cell_type": "code",
   "execution_count": 60,
   "metadata": {},
   "outputs": [
    {
     "name": "stdout",
     "output_type": "stream",
     "text": [
      "Enter cheese order weight (numeric value) : 100\n",
      "100 costs $15.000000\n"
     ]
    }
   ],
   "source": [
    "maximum = 141\n",
    "minimum = 1\n",
    "cheesePrice = 0.15\n",
    "\n",
    "try:\n",
    "    order_amount = int(input(\"Enter cheese order weight (numeric value) : \"))\n",
    "except:\n",
    "    print(\"I said Numeric value!\")\n",
    "\n",
    "if order_amount > maximum:\n",
    "    print(order_amount, \" is more than currently available stock\")\n",
    "elif order_amount < minimum:\n",
    "    print(order_amount, \" is below minimum order amount\")\n",
    "else:\n",
    "    print(\"%s costs $%f\"%(order_amount, cheesePrice*float(order_amount)))\n",
    "\n",
    "# Enter cheese order weight (numeric value): 113\n",
    "# 113.0 is more than currently available stock\n",
    "# Enter cheese order weight (numeric value): .15\n",
    "# 0.15 is below minimum order amount\n",
    "# Enter cheese order weight (numeric value): 2\n",
    "# 2.0 costs $15.98\n",
    "# [ ] create, call and test \n",
    "# then PASTE THIS CODE into edX\n"
   ]
  },
  {
   "cell_type": "markdown",
   "metadata": {},
   "source": [
    "> [Bookmark](https://courses.edx.org/courses/course-v1:Microsoft+DEV236x+1T2019a/courseware/bd751442f0c84588acc48066ba41b0f9/022acbdc49f54a8b806420da867d8da3/?child=first)"
   ]
  }
 ],
 "metadata": {
  "kernelspec": {
   "display_name": "Python 3",
   "language": "python",
   "name": "python3"
  },
  "language_info": {
   "codemirror_mode": {
    "name": "ipython",
    "version": 3
   },
   "file_extension": ".py",
   "mimetype": "text/x-python",
   "name": "python",
   "nbconvert_exporter": "python",
   "pygments_lexer": "ipython3",
   "version": "3.7.3"
  }
 },
 "nbformat": 4,
 "nbformat_minor": 2
}
