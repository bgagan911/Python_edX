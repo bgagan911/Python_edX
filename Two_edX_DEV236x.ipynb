{
 "cells": [
  {
   "cell_type": "markdown",
   "metadata": {},
   "source": [
    "# Two_edX_DEV236x"
   ]
  },
  {
   "cell_type": "code",
   "execution_count": 11,
   "metadata": {},
   "outputs": [
    {
     "name": "stdout",
     "output_type": "stream",
     "text": [
      "What is your Favorite Food? : Fish\n",
      "My favorite food is Fish\n"
     ]
    }
   ],
   "source": [
    "#   --- --- --- --- ---\n",
    "#   Module 1, \n",
    "new_msg = 'My favorite food is'\n",
    "userInput = input(\"What is your Favorite Food? : \")\n",
    "print(new_msg + \" \" + userInput)\n",
    "\n",
    "# Throws NAMEERROR Exception, because undefined.\n",
    "# print(new_MSG) "
   ]
  },
  {
   "cell_type": "code",
   "execution_count": 12,
   "metadata": {},
   "outputs": [
    {
     "name": "stdout",
     "output_type": "stream",
     "text": [
      "the street number of Central School is 123\n"
     ]
    }
   ],
   "source": [
    "# --- --- --- --- ---\n",
    "# Exception Handling\n",
    "\n",
    "school_num = \"123\"\n",
    "try:\n",
    "    print(\"the street number of Central School is \" + school_num)\n",
    "except TypeError:\n",
    "    print(\"Type mismatch\")\n",
    "except:\n",
    "    print(\"We got an error\")"
   ]
  },
  {
   "cell_type": "code",
   "execution_count": 30,
   "metadata": {},
   "outputs": [
    {
     "name": "stdout",
     "output_type": "stream",
     "text": [
      "('', 0, False)\n",
      "('Alton', 17, True)\n",
      "Enter details for the New Student : Yo\n",
      "('Yo',)\n"
     ]
    }
   ],
   "source": [
    "# --- --- --- --- ---\n",
    "# Input with Twist or Tuple\n",
    "\n",
    "student_name = \"\"\n",
    "student_age = 0\n",
    "student_wantsemail = False\n",
    "new_student = (student_name, student_age, student_wantsemail)\n",
    "print(new_student)\n",
    "new_student = (\"Alton\", 17, True)\n",
    "print(new_student)\n",
    "new_student = input(\"Enter details for the New Student : \").split()\n",
    "print(tuple(new_student))"
   ]
  },
  {
   "cell_type": "code",
   "execution_count": 61,
   "metadata": {},
   "outputs": [
    {
     "name": "stdout",
     "output_type": "stream",
     "text": [
      "'hello' in greeting =  False\n",
      "'Hello' in greeting =  True\n",
      "\n",
      "What would you like to have today? : milk\n",
      "Sorry! the item, milk is not in the list! Please visit us next time.\n",
      "\n",
      "salad, pasta, sandwich, pizza, drinks, dessert, milk\n"
     ]
    }
   ],
   "source": [
    "# --- --- --- --- ---\n",
    "# in Keyword\n",
    "greeting = \"Hello World!\"\n",
    "print(\"'hello' in greeting = \",'hello' in greeting)\n",
    "print(\"'Hello' in greeting = \", 'Hello' in greeting)\n",
    "\n",
    "# --- --- --- --- ---\n",
    "# Order from Menu in the Hotel.\n",
    "hotelMenu = \"salad, pasta, sandwich, pizza, drinks, dessert\"\n",
    "user_order = input(\"\\nWhat would you like to have today? : \")\n",
    "if not user_order.lower() in hotelMenu:\n",
    "    print(\"Sorry! the item, \" + user_order + \" is not in the list! Please visit us next time.\\n\")\n",
    "    hotelMenu += \", \" + user_order\n",
    "    print(hotelMenu)\n",
    "else:\n",
    "    print(\"Thank you for your order!\")"
   ]
  },
  {
   "cell_type": "code",
   "execution_count": null,
   "metadata": {},
   "outputs": [],
   "source": []
  }
 ],
 "metadata": {
  "kernelspec": {
   "display_name": "Python 3",
   "language": "python",
   "name": "python3"
  },
  "language_info": {
   "codemirror_mode": {
    "name": "ipython",
    "version": 3
   },
   "file_extension": ".py",
   "mimetype": "text/x-python",
   "name": "python",
   "nbconvert_exporter": "python",
   "pygments_lexer": "ipython3",
   "version": "3.7.3"
  }
 },
 "nbformat": 4,
 "nbformat_minor": 2
}
