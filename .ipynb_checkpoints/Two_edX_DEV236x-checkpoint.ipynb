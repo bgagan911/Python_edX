{
 "cells": [
  {
   "cell_type": "markdown",
   "metadata": {},
   "source": [
    "# Two_edX_DEV236x"
   ]
  },
  {
   "cell_type": "code",
   "execution_count": null,
   "metadata": {},
   "outputs": [],
   "source": [
    "#   --- --- --- --- ---\n",
    "#   Module 1, \n",
    "new_msg = 'My favorite food is'\n",
    "userInput = input(\"What is your Favorite Food? : \")\n",
    "print(new_msg + \" \" + userInput)\n",
    "\n",
    "# Throws NAMEERROR Exception, because undefined.\n",
    "# print(new_MSG) "
   ]
  },
  {
   "cell_type": "code",
   "execution_count": null,
   "metadata": {},
   "outputs": [],
   "source": [
    "# --- --- --- --- ---\n",
    "# Exception Handling\n",
    "\n",
    "school_num = \"123\"\n",
    "try:\n",
    "    print(\"the street number of Central School is \" + school_num)\n",
    "except TypeError:\n",
    "    print(\"Type mismatch\")\n",
    "except:\n",
    "    print(\"We got an error\")"
   ]
  },
  {
   "cell_type": "code",
   "execution_count": null,
   "metadata": {},
   "outputs": [],
   "source": [
    "# --- --- --- --- ---\n",
    "# Input with Twist or Tuple\n",
    "\n",
    "student_name = \"\"\n",
    "student_age = 0\n",
    "student_wantsemail = False\n",
    "new_student = (student_name, student_age, student_wantsemail)\n",
    "print(new_student)\n",
    "new_student = (\"Alton\", 17, True)\n",
    "print(new_student)\n",
    "new_student = input(\"Enter details for the New Student : \").split()\n",
    "print(tuple(new_student))"
   ]
  },
  {
   "cell_type": "code",
   "execution_count": null,
   "metadata": {},
   "outputs": [],
   "source": [
    "# --- --- --- --- ---\n",
    "# in Keyword\n",
    "greeting = \"Hello World!\"\n",
    "print(\"'hello' in greeting = \",'hello' in greeting)\n",
    "print(\"'Hello' in greeting = \", 'Hello' in greeting)\n",
    "\n",
    "# --- --- --- --- ---\n",
    "# Order from Menu in the Hotel.\n",
    "hotelMenu = \"salad, pasta, sandwich, pizza, drinks, dessert\"\n",
    "user_order = input(\"\\nWhat would you like to have today? : \")\n",
    "if not user_order.lower() in hotelMenu:\n",
    "    print(\"Sorry! the item, \" + user_order + \" is not in the list! Please visit us next time.\\n\")\n",
    "    hotelMenu += \", \" + user_order\n",
    "    print(hotelMenu)\n",
    "else:\n",
    "    print(\"Thank you for your order!\")"
   ]
  },
  {
   "cell_type": "code",
   "execution_count": null,
   "metadata": {},
   "outputs": [],
   "source": [
    "# --- --- --- --- ---\n",
    "# Module 1 Required Coding Activity\n",
    "# \n",
    "# Allergy Check\n",
    "# \n",
    "\n",
    "eaten = \"seafood, dairy, nuts, and chocolate cake\"\n",
    "\n",
    "input_test = input(\"Enter something eaten in last 24 hours: \")\n",
    "\n",
    "if input_test.casefold() in eaten.casefold():\n",
    "    print(\"It is True that \\\"\" + eaten + \"\\\" contains \\\" \" + input_test + \"\\\"\")\n",
    "else:\n",
    "    print(\"False\")"
   ]
  },
  {
   "cell_type": "code",
   "execution_count": 7,
   "metadata": {},
   "outputs": [
    {
     "name": "stdout",
     "output_type": "stream",
     "text": [
      "Enter your name: d\n",
      "Doctor d\n"
     ]
    }
   ],
   "source": [
    "# --- --- --- --- ---\n",
    "# Module 2 : Functions\n",
    "# \n",
    "\n",
    "def make_doctor(name):\n",
    "    return \"Doctor \" + name\n",
    "\n",
    "your_name = input(\"Enter your name: \")\n",
    "print(make_doctor(your_name))"
   ]
  },
  {
   "cell_type": "code",
   "execution_count": 20,
   "metadata": {},
   "outputs": [
    {
     "name": "stdout",
     "output_type": "stream",
     "text": [
      "Enter Bird name : f\n",
      "Sorry! The f is not available\n"
     ]
    }
   ],
   "source": [
    "# --- --- --- --- ---\n",
    "#\n",
    "def bird_available(bird):\n",
    "    bird_types = 'crow robin parrot eagle sandpiper hawk pigeon'\n",
    "    return bird.casefold() in bird_types.casefold()\n",
    "\n",
    "bird_name = input(\"Enter Bird name : \")\n",
    "if bird_available(bird_name):\n",
    "    print(\"Awesome! \" + bird_name + \" is available!!\")\n",
    "else:\n",
    "    print(\"Sorry! The \" + bird_name + \" is not available\")"
   ]
  },
  {
   "cell_type": "code",
   "execution_count": 5,
   "metadata": {},
   "outputs": [
    {
     "name": "stdout",
     "output_type": "stream",
     "text": [
      "('Fish', 20)\n",
      "Enter Fish and Price? : f\n",
      "Dude! Recheck your input!!\n"
     ]
    }
   ],
   "source": [
    "# --- --- --- --- ---\n",
    "# Module 2 Required Coding Activity\n",
    "# \n",
    "# Fish Store\n",
    "# \n",
    "\n",
    "def fishstore(fish, price):\n",
    "    return print(\"\\nFish Type : \" + fish + \" costs Rs. \" + price)\n",
    "\n",
    "fish_detail = (\"Fish\", 20)\n",
    "print(fish_detail)\n",
    "new_fish = input(\"Enter Fish and Price? : \").split()\n",
    "fish_detail = tuple(new_fish)\n",
    "\n",
    "try:\n",
    "    fishstore(fish_detail[0], fish_detail[1])\n",
    "except:\n",
    "    print(\"Dude! Recheck your input!!\")"
   ]
  },
  {
   "cell_type": "markdown",
   "metadata": {},
   "source": [
    "[edX Bookmark](https://courses.edx.org/courses/course-v1:Microsoft+DEV236x+1T2019a/courseware/389d57ca5e61417aa7a5634194b88e0d/be11c767d5b84cb592ac041b839648dc/?child=first)"
   ]
  }
 ],
 "metadata": {
  "kernelspec": {
   "display_name": "Python 3",
   "language": "python",
   "name": "python3"
  },
  "language_info": {
   "codemirror_mode": {
    "name": "ipython",
    "version": 3
   },
   "file_extension": ".py",
   "mimetype": "text/x-python",
   "name": "python",
   "nbconvert_exporter": "python",
   "pygments_lexer": "ipython3",
   "version": "3.7.3"
  }
 },
 "nbformat": 4,
 "nbformat_minor": 2
}
