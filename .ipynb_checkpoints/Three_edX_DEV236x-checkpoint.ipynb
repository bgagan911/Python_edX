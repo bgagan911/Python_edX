{
 "cells": [
  {
   "cell_type": "markdown",
   "metadata": {},
   "source": [
    "## Module 3"
   ]
  },
  {
   "cell_type": "code",
   "execution_count": null,
   "metadata": {},
   "outputs": [],
   "source": [
    "# Python Practice\n",
    "# if else with Dictionaries\n",
    "\n",
    "def rainbow_color(dict, key):\n",
    "    if key in dict:\n",
    "        print(dict[key])\n",
    "    else:\n",
    "        print(\"no match\")\n",
    "\n",
    "rainbowColors = {'R':\"Red\", 'O':\"Orange\", 'Y':\"Yellow\", 'G':\"Green\", 'B':\"Blue\", 'I':\"Indigo\", 'V':\"Voilet\"}\n",
    "\n",
    "color = input(\"Enter your fav. color [ROYGBIV] : \")\n",
    "rainbow_color(rainbowColors,color)"
   ]
  },
  {
   "cell_type": "code",
   "execution_count": null,
   "metadata": {},
   "outputs": [],
   "source": [
    "maximum = 141\n",
    "minimum = 1\n",
    "cheesePrice = 0.15\n",
    "\n",
    "try:\n",
    "    order_amount = int(input(\"Enter cheese order weight (numeric value) : \"))\n",
    "except:\n",
    "    print(\"I said Numeric value!\")\n",
    "\n",
    "if order_amount > maximum:\n",
    "    print(order_amount, \" is more than currently available stock\")\n",
    "elif order_amount < minimum:\n",
    "    print(order_amount, \" is below minimum order amount\")\n",
    "else:\n",
    "    print(\"%s costs $%f\"%(order_amount, cheesePrice*float(order_amount)))\n"
   ]
  },
  {
   "cell_type": "code",
   "execution_count": null,
   "metadata": {},
   "outputs": [],
   "source": [
    "# While Program\n",
    "\n",
    "while True:\n",
    "    name = input(\"Enter a familiar name\")\n",
    "    if name != \"\":\n",
    "        True\n",
    "    else:\n",
    "        break"
   ]
  },
  {
   "cell_type": "markdown",
   "metadata": {},
   "source": [
    "[Chapter Bookmark](https://courses.edx.org/courses/course-v1:Microsoft+DEV236x+1T2019a/courseware/bd751442f0c84588acc48066ba41b0f9/25e2a1e7bb4442b2b6b85a7d8a7e5d84/?child=first) "
   ]
  },
  {
   "cell_type": "code",
   "execution_count": null,
   "metadata": {},
   "outputs": [],
   "source": [
    "#  Shirt Count\n",
    "\n",
    "countS = 0\n",
    "countM = 0\n",
    "countL = 0\n",
    "\n",
    "shirtCost = {\"s\":6, \"m\":7, \"l\":8}\n",
    "\n",
    "while True:\n",
    "    shirtSize = input(\"Enter shirt size (S/M/L), Or Exit to stop. : \")\n",
    "    if shirtSize.lower() == \"s\":\n",
    "        countS += 1\n",
    "    elif shirtSize.lower() == \"m\":\n",
    "        countM += 1\n",
    "    elif shirtSize.lower() == \"l\":\n",
    "        countL += 1\n",
    "    elif shirtSize == \"Exit\":\n",
    "        break\n",
    "    else:\n",
    "        print(\"Wrong Input\")\n",
    "\n",
    "print(\"\\n Total Count \\n\\t Small Shirts = {}, \\n\\t Medium Shirts = {},\\\n",
    "\\n\\t Large Shirts = {} \".format(countS,countM,countL)) \n",
    "\n",
    "print(\"\\nTotal Cost: \\n\\tSmall : {} \\n\\t Medium : {} \\n\\t Large : {} \\\n",
    "      \".format(shirtCost[\"s\"]*countS, shirtCost[\"m\"]*countM, shirtCost[\"l\"]*countL))\n",
    "    "
   ]
  },
  {
   "cell_type": "markdown",
   "metadata": {},
   "source": [
    "[Module Coding Activity](https://courses.edx.org/courses/course-v1:Microsoft+DEV236x+1T2019a/courseware/bd751442f0c84588acc48066ba41b0f9/68fdebd803a0462b8ddc949f7453b325/?child=first)"
   ]
  },
  {
   "cell_type": "code",
   "execution_count": null,
   "metadata": {},
   "outputs": [],
   "source": [
    "def str_analysis(analyze):\n",
    "    if str(analyze).isalpha() == True:\n",
    "        print(\"\\\"{}\\\" is all alphabetical characters!\".format(analyze))\n",
    "    elif str(analyze).isdigit() == True:\n",
    "        if int(analyze) > 99:\n",
    "            print(\"{} is a big number\".format(analyze))\n",
    "        else:\n",
    "            print(\"{} is a small number\".format(analyze))\n",
    "    else:\n",
    "        print(\"\\\"{}\\\" is neither alpha nor digit\".format(analyze))\n",
    "\n",
    "\n",
    "# Get Input until Blank\n",
    "while True:\n",
    "    strInput = input(\"Enter a word or an integer: \")\n",
    "    if strInput == \"\":\n",
    "        strInput = input(\"Enter a word or an integer: \")\n",
    "    else:\n",
    "        str_analysis(strInput)"
   ]
  }
 ],
 "metadata": {
  "kernelspec": {
   "display_name": "Python 3",
   "language": "python",
   "name": "python3"
  },
  "language_info": {
   "codemirror_mode": {
    "name": "ipython",
    "version": 3
   },
   "file_extension": ".py",
   "mimetype": "text/x-python",
   "name": "python",
   "nbconvert_exporter": "python",
   "pygments_lexer": "ipython3",
   "version": "3.7.3"
  }
 },
 "nbformat": 4,
 "nbformat_minor": 2
}
