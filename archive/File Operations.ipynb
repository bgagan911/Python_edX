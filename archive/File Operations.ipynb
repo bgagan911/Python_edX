{
 "cells": [
  {
   "cell_type": "code",
   "execution_count": null,
   "metadata": {},
   "outputs": [],
   "source": [
    "#Download file\n",
    "#  !curl https://raw.githubusercontent.com/MicrosoftLearning/intropython/master/poem1.txt -o poem1.txt\n",
    "poem_file = open('poem1.txt', 'r') # [ ]Run to open the file in memory as poem_file\n",
    "# [ ] run and review code to test if open worked  should display name='poem1.txt' and no errors\n",
    "poem_file\n",
    "\n",
    "poem_contents = poem_file.read()  # READ Contents of the file\n",
    "#print (poem_contents)\n",
    "print('----------------------------------reading 10 Chars')\n",
    "poem_file = open('poem1.txt', 'r',encoding='UTF-8')\n",
    "poem_10char = poem_file.read(10)\n",
    "print(poem_10char)\n",
    "poem_10char"
   ]
  },
  {
   "cell_type": "code",
   "execution_count": null,
   "metadata": {},
   "outputs": [],
   "source": [
    "#!curl https://raw.githubusercontent.com/MicrosoftLearning/intropython/master/cities -o cities.txt \n",
    "cities_file = open('cities.txt','r',encoding='UTF-8')\n",
    "cities_file\n",
    "cities_content = cities_file.read()\n",
    "#print (cities_content)\n",
    "print('\\n.......................................\\n')\n",
    "initials=\"\"\n",
    "for word in cities_content.split():\n",
    "    for i in word:\n",
    "        if i.isupper():\n",
    "            initials = initials + i\n",
    "        elif '\\n' in word:\n",
    "            initials = initials + i\n",
    "        else:\n",
    "            pass            \n",
    "\n",
    "print(initials)"
   ]
  },
  {
   "cell_type": "markdown",
   "metadata": {},
   "source": [
    "### File .readlines() and .close() methods"
   ]
  },
  {
   "cell_type": "code",
   "execution_count": null,
   "metadata": {},
   "outputs": [],
   "source": [
    "poem_file = open('poem1.txt', 'r',encoding='UTF-8')\n",
    "poem_lines = poem_file.readlines()\n",
    "count=0\n",
    "print (poem_lines)\n",
    "for line in poem_lines:\n",
    "    poem_lines[count] = line[:-1]\n",
    "    count+=1\n",
    "print (poem_lines)\n",
    "poem_file.close()"
   ]
  },
  {
   "cell_type": "code",
   "execution_count": null,
   "metadata": {},
   "outputs": [],
   "source": [
    "cities_file = open('cities.txt','r',encoding='UTF-8')\n",
    "cities_lines = cities_file.readlines()\n",
    "print (cities_lines)\n",
    "for word in cities_lines:\n",
    "    if word[0] >= 'D':\n",
    "        print (word)\n",
    "    else:\n",
    "        pass\n",
    "cities_file.close()"
   ]
  },
  {
   "cell_type": "code",
   "execution_count": 85,
   "metadata": {},
   "outputs": [
    {
     "name": "stdout",
     "output_type": "stream",
     "text": [
      "['while True\\n', 'I loop\\n', 'True\\n', 'loop\\n', 'True\\n', 'loop\\n', 'not True\\n', 'False\\n', 'end\\n']\n"
     ]
    }
   ],
   "source": [
    "#!curl https://raw.githubusercontent.com/MicrosoftLearning/intropython/master/poem2.txt -o poem2.txt\n",
    "poem2_text = open('poem2.txt','r')\n",
    "poem2_lines = poem2_text.readlines()\n",
    "print (poem2_lines)\n",
    "for word in poem2_lines:\n",
    "    "
   ]
  }
 ],
 "metadata": {
  "kernelspec": {
   "display_name": "Python 3",
   "language": "python",
   "name": "python3"
  },
  "language_info": {
   "codemirror_mode": {
    "name": "ipython",
    "version": 3
   },
   "file_extension": ".py",
   "mimetype": "text/x-python",
   "name": "python",
   "nbconvert_exporter": "python",
   "pygments_lexer": "ipython3",
   "version": "3.6.1"
  }
 },
 "nbformat": 4,
 "nbformat_minor": 2
}
