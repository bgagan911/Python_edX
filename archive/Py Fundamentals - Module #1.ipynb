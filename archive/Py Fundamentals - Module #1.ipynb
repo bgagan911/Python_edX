{
 "cells": [
  {
   "cell_type": "markdown",
   "metadata": {},
   "source": [
    "# 2-1 Intro Python Practice\n",
    "\n",
    "https://courses.edx.org/courses/course-v1:Microsoft+DEV274x+2T2017/courseware/42605a61231841dab722f0356d46d9db/5ed0dc84e5c34b22b4a40602ffafecb7/?child=first"
   ]
  },
  {
   "cell_type": "code",
   "execution_count": 2,
   "metadata": {
    "scrolled": false
   },
   "outputs": [
    {
     "name": "stdout",
     "output_type": "stream",
     "text": [
      "Enter a Quote: Wheresoever you go, go with all your heart\n",
      "WHERESOEVER\n",
      "YOU\n",
      "WITH\n",
      "YOUR\n",
      "HEART\n"
     ]
    }
   ],
   "source": [
    "def myquote(quote):\n",
    "    space_index = quote.find(\" \")\n",
    "    start = 0\n",
    "    location = 0\n",
    "    check = \"\"\n",
    "    quote.isalpha()\n",
    "    \n",
    "    for word in quote:\n",
    "#         print (\"START\\tLOCATION\\tSPACE-INDEX\\n\", start,\"\\t\", location,\"\\t\", space_index)\n",
    "\n",
    "        word = quote[start:space_index].lower()\n",
    "        \n",
    "        # Check the first letter of each word\n",
    "        if word[0:1].lower() <= \"g\":\n",
    "            word = \" \"\n",
    "        else:\n",
    "            print (word.upper())         \n",
    "        \n",
    "        # Find & Set Indexes\n",
    "        start = space_index + 1\n",
    "        location = quote[start:].find(\" \")\n",
    "        if location == -1:\n",
    "            space_index = len(quote)\n",
    "        else:\n",
    "            space_index = space_index + location + 1\n",
    "\n",
    "#         print (\"START\\tLOCATION\\tSPACE-INDEX\\n\", start,\"\\t\", location,\"\\t\", space_index,\"\\n*****\")\n",
    "\n",
    "    \n",
    "# Quotation\n",
    "myquote (input(\"Enter a Quote: \"))\n",
    "\n"
   ]
  }
 ],
 "metadata": {
  "kernelspec": {
   "display_name": "Python 3",
   "language": "python",
   "name": "python3"
  },
  "language_info": {
   "codemirror_mode": {
    "name": "ipython",
    "version": 3
   },
   "file_extension": ".py",
   "mimetype": "text/x-python",
   "name": "python",
   "nbconvert_exporter": "python",
   "pygments_lexer": "ipython3",
   "version": "3.6.1"
  }
 },
 "nbformat": 4,
 "nbformat_minor": 2
}
