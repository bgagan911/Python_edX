{
 "cells": [
  {
   "cell_type": "markdown",
   "metadata": {},
   "source": [
    "# Module 3 Required Coding Activity\n",
    "https://courses.edx.org/courses/course-v1:Microsoft+DEV274x+2T2017/courseware/728ddfda81034d4c930cf528d1a8ffe5/9c4791baccd745e0a0781e44d785ad7f/?child=first"
   ]
  },
  {
   "cell_type": "code",
   "execution_count": 3,
   "metadata": {},
   "outputs": [
    {
     "name": "stdout",
     "output_type": "stream",
     "text": [
      "Enter a saying or poem: hello world how are you? I'm good andlovingit.\n",
      "pList ==>    ['hello', 'world', 'how', 'are', 'you?', \"I'm\", 'good', 'andlovingit.']\n",
      "hello ANDLOVINGIT. you? "
     ]
    }
   ],
   "source": [
    "# poem mixer\n",
    "def word_mixer(str):\n",
    "    new_list=[]\n",
    "    str.sort() \n",
    "#     print(\"SORTED: \\n\\n\",str)\n",
    "    for i in range(len(str)):\n",
    "        if len(str) > 5:\n",
    "            new_list.append(str.pop(-5))\n",
    "            new_list.append(str.pop(0))\n",
    "            new_list.append(str.pop(-1))\n",
    "        else:\n",
    "            pass\n",
    "#     print (\"New List: \\n\\n\",new_list)\n",
    "    return new_list\n",
    "\n",
    "def poem_mixer (poem = '''Little fly, Thy summer’s play My thoughtless hand Has brushed away. \n",
    "                Am not I A fly like thee? Or art not thou A man like me?'''):\n",
    "    final = []\n",
    "    pList = poem.split()\n",
    "    print (\"pList ==>   \", pList)\n",
    "    pLen = len(pList)\n",
    "    count = 0\n",
    "    for word in pList:\n",
    "        if len(word) <= 3:\n",
    "            pList[count] = word.lower()\n",
    "            count += 1\n",
    "        elif len(word) >= 7:\n",
    "            pList[count] = word.upper()\n",
    "            count += 1\n",
    "        else:\n",
    "            count += 1\n",
    "            pass\n",
    "#     print (\"Poem Mixed\\n\",pList,\"\\n\\n\")\n",
    "    final = word_mixer(pList)\n",
    "    for y in range(0,len(final)):\n",
    "        print (final[y],end=' ')\n",
    "\n",
    "\n",
    "#  Main Program\n",
    "poem_mixer(input(\"Enter a saying or poem: \"))"
   ]
  }
 ],
 "metadata": {
  "kernelspec": {
   "display_name": "Python 3",
   "language": "python",
   "name": "python3"
  },
  "language_info": {
   "codemirror_mode": {
    "name": "ipython",
    "version": 3
   },
   "file_extension": ".py",
   "mimetype": "text/x-python",
   "name": "python",
   "nbconvert_exporter": "python",
   "pygments_lexer": "ipython3",
   "version": "3.6.1"
  }
 },
 "nbformat": 4,
 "nbformat_minor": 2
}
