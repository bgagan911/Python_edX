{
 "cells": [
  {
   "cell_type": "markdown",
   "metadata": {},
   "source": [
    "### List Sequences\n"
   ]
  },
  {
   "cell_type": "code",
   "execution_count": 2,
   "metadata": {},
   "outputs": [
    {
     "name": "stdout",
     "output_type": "stream",
     "text": [
      "\n",
      "Look at all the animals  ['cat', 'goat', 'cat']\n",
      "Enter a list Item or [Q]uit: q\n"
     ]
    }
   ],
   "source": [
    "def list_o_matic(i_list, i_str):\n",
    "    if not i_str:\n",
    "        print (\"POP'D\")\n",
    "        return i_list.pop()\n",
    "    elif i_str in i_list:\n",
    "        print (\"REMOV'D\")\n",
    "        return i_list.remove(i_str)\n",
    "    else:\n",
    "        print (\"APPEND'D\")\n",
    "        return i_list.append(i_str)\n",
    "\n",
    "# Define list\n",
    "all_animals = ['cat', 'goat', 'cat']\n",
    "choice = \"\"\n",
    "\n",
    "while all_animals:\n",
    "    print (\"\\nLook at all the animals \", all_animals)\n",
    "    choice = input(\"Enter a list Item or [Q]uit: \")\n",
    "    if choice.lower() == \"q\":\n",
    "        break;\n",
    "    else:\n",
    "        list_o_matic(all_animals, choice)\n"
   ]
  }
 ],
 "metadata": {
  "kernelspec": {
   "display_name": "Python 3",
   "language": "python",
   "name": "python3"
  },
  "language_info": {
   "codemirror_mode": {
    "name": "ipython",
    "version": 3
   },
   "file_extension": ".py",
   "mimetype": "text/x-python",
   "name": "python",
   "nbconvert_exporter": "python",
   "pygments_lexer": "ipython3",
   "version": "3.6.1"
  }
 },
 "nbformat": 4,
 "nbformat_minor": 2
}
