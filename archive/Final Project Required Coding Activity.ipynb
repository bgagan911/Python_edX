{
 "cells": [
  {
   "cell_type": "code",
   "execution_count": 2,
   "metadata": {},
   "outputs": [
    {
     "name": "stdout",
     "output_type": "stream",
     "text": [
      "Enter Report Type: a\n",
      "Input an integer to add to the total or \"Q\" to quit\n",
      "Enter an integer or \"Q\": 1\n",
      "Enter an integer or \"Q\": 2\n",
      "Enter an integer or \"Q\": 3\n",
      "Enter an integer or \"Q\": 5\n",
      "Enter an integer or \"Q\": 9\n",
      "Enter an integer or \"Q\": q\n",
      "**** Items ****\n",
      " \n",
      "1\n",
      "2\n",
      "3\n",
      "5\n",
      "9\n"
     ]
    }
   ],
   "source": [
    "# Intro \n",
    "def adding_report(report = \"T\"):\n",
    "    total = 0\n",
    "    items = \"\"\n",
    "    print(\"Input an integer to add to the total or \\\"Q\\\" to quit\")\n",
    "\n",
    "    while True:\n",
    "        u_in = input(\"Enter an integer or \\\"Q\\\": \")\n",
    "\n",
    "        if u_in.isdigit():\n",
    "            total += int(u_in)              # compute total\n",
    "            items = items + \"\\n\" + u_in     # build the items list\n",
    "        elif u_in.lower() == \"q\":\n",
    "            if report.lower() == \"a\":       # break \n",
    "                print (\"**** Items ****\\n\", items)\n",
    "                break\n",
    "            elif report.lower() == \"t\":\n",
    "                print (\"Total: \", total)\n",
    "                break\n",
    "        else:\n",
    "            print (u_in, \" is an invalid input\")\n",
    "\n",
    "adding_report(input(\"Enter Report Type: \"))"
   ]
  }
 ],
 "metadata": {
  "kernelspec": {
   "display_name": "Python 3",
   "language": "python",
   "name": "python3"
  },
  "language_info": {
   "codemirror_mode": {
    "name": "ipython",
    "version": 3
   },
   "file_extension": ".py",
   "mimetype": "text/x-python",
   "name": "python",
   "nbconvert_exporter": "python",
   "pygments_lexer": "ipython3",
   "version": "3.6.1"
  }
 },
 "nbformat": 4,
 "nbformat_minor": 2
}
