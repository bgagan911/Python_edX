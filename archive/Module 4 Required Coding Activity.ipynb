{
 "cells": [
  {
   "cell_type": "markdown",
   "metadata": {},
   "source": [
    "# Module 4 Required Coding Activity\n",
    "\n",
    "https://courses.edx.org/courses/course-v1:Microsoft+DEV236x+1T2017/courseware/bd751442f0c84588acc48066ba41b0f9/68fdebd803a0462b8ddc949f7453b325/?child=first"
   ]
  },
  {
   "cell_type": "code",
   "execution_count": 7,
   "metadata": {},
   "outputs": [
    {
     "name": "stdout",
     "output_type": "stream",
     "text": [
      "Enter a word or an integer: 9\n",
      "9  is a small number\n"
     ]
    }
   ],
   "source": [
    "def str_analysis(uin):\n",
    "    uin = input(\"Enter a word or an integer: \")\n",
    "    \n",
    "    while True:\n",
    "        if not uin.strip():\n",
    "            uin = input(\"Enter a word or an integer: \")\n",
    "        else:\n",
    "            if uin.isalpha():\n",
    "                print (\"\\\"\", uin, \"\\\"\", \" is all alphabetical characters!\")\n",
    "                break\n",
    "            elif uin.isdigit():\n",
    "                if int(uin) > 99:\n",
    "                    print (uin, \" is a pretty big number\")\n",
    "                    break\n",
    "                elif int(uin) < 99:\n",
    "                    print (uin, \" is a small number\")\n",
    "                    break\n",
    "            else:\n",
    "                print (\"\\\"\", uin, \"\\\"\", \" is neither alphabetical nor digit\")\n",
    "                break\n",
    "\n",
    "str_analysis(\"g\")"
   ]
  }
 ],
 "metadata": {
  "kernelspec": {
   "display_name": "Python 3",
   "language": "python",
   "name": "python3"
  },
  "language_info": {
   "codemirror_mode": {
    "name": "ipython",
    "version": 3
   },
   "file_extension": ".py",
   "mimetype": "text/x-python",
   "name": "python",
   "nbconvert_exporter": "python",
   "pygments_lexer": "ipython3",
   "version": "3.6.1"
  }
 },
 "nbformat": 4,
 "nbformat_minor": 2
}
