{
 "cells": [
  {
   "cell_type": "code",
   "execution_count": null,
   "metadata": {},
   "outputs": [],
   "source": [
    "familar_name = \"\"\n",
    "while True:\n",
    "    familar_name = input(\"Enter a name from our family: \").lower()\n",
    "    if familar_name == \"Gagan\".lower():\n",
    "        print (\"Welcome!! \", familar_name.title())\n",
    "        break\n",
    "    else:\n",
    "        print (\"Naa!\\n\")"
   ]
  },
  {
   "cell_type": "code",
   "execution_count": null,
   "metadata": {},
   "outputs": [],
   "source": [
    "# Shirt Count\n",
    "# Initialize Variables\n",
    "size_S = 0\n",
    "price_S = 6\n",
    "size_M = 0\n",
    "price_M = 7\n",
    "size_L = 0\n",
    "price_L = 9\n",
    "total_size_count = 0\n",
    "total_price = 0\n",
    "\n",
    "while True:\n",
    "    shirt_size = input('enter shirt size of \"[S]mall\",\"[M]Medium\", \"[L]arge\" or \"[E]xit\" (to quit): ')\n",
    "    \n",
    "    if shirt_size.startswith(\"e\"):\n",
    "        print()\n",
    "        break\n",
    "    elif shirt_size.lower() == \"s\":\n",
    "        size_S += 1\n",
    "    elif shirt_size.lower() == \"m\":\n",
    "        size_M += 1\n",
    "    elif shirt_size.lower() == \"l\":\n",
    "        size_L += 1\n",
    "    else:\n",
    "        print(\"invalid size!\")\n",
    "    total_size_count += 1\n",
    "\n",
    "total_price  = size_S * price_S + size_M * price_M + size_L * price_L\n",
    "print (\"Total Sales: \", total_size_count, \"\\tSmall\\tMedium\\tLarge\\n\",\"\\t\\t\\t\",size_S,\"\\t\",size_M,\"\\t\",size_L,\"\\t\")\n",
    "print (\"Total Price: \", total_price, \"\\t------\\t------\\t------\\n\",\"\\t\\t\\t\",size_S * price_S,\"\\t\",size_M * price_M,\"\\t\",size_L * price_L,\"\\t\")\n",
    "    "
   ]
  },
  {
   "cell_type": "code",
   "execution_count": null,
   "metadata": {},
   "outputs": [],
   "source": [
    "# [ ] Create the Animal Names program, run tests\n",
    "num_animals = 0\n",
    "temp_animal = \"\"\n",
    "all_animals = \"\"\n",
    "\n",
    "while num_animals < 4:\n",
    "    temp_animal = input(\"Enter Animal: \")\n",
    "    all_animals =  all_animals + temp_animal  + \" \" \n",
    "    \n",
    "    if all_animals.lower() == \"e\":\n",
    "        print(\"Exiting...\")\n",
    "        break\n",
    "    else:\n",
    "        num_animals += 1\n",
    "        \n",
    "if not all_animals.strip():\n",
    "    print (\"\\nNO ANIMALS!!\")\n",
    "else:\n",
    "    print (\"\\nList of Animals: \", all_animals)"
   ]
  }
 ],
 "metadata": {
  "kernelspec": {
   "display_name": "Python 3",
   "language": "python",
   "name": "python3"
  },
  "language_info": {
   "codemirror_mode": {
    "name": "ipython",
    "version": 3
   },
   "file_extension": ".py",
   "mimetype": "text/x-python",
   "name": "python",
   "nbconvert_exporter": "python",
   "pygments_lexer": "ipython3",
   "version": "3.6.1"
  }
 },
 "nbformat": 4,
 "nbformat_minor": 2
}
